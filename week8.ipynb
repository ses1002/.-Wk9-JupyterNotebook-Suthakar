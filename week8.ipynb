{
 "cells": [
  {
   "cell_type": "code",
   "execution_count": 1,
   "id": "f8647a7c",
   "metadata": {},
   "outputs": [
    {
     "name": "stdout",
     "output_type": "stream",
     "text": [
      "Requirement already satisfied: ucimlrepo in /usr/local/python/3.12.1/lib/python3.12/site-packages (0.0.7)\n",
      "Requirement already satisfied: pandas>=1.0.0 in /home/codespace/.local/lib/python3.12/site-packages (from ucimlrepo) (2.2.3)\n",
      "Requirement already satisfied: certifi>=2020.12.5 in /home/codespace/.local/lib/python3.12/site-packages (from ucimlrepo) (2025.4.26)\n",
      "Requirement already satisfied: numpy>=1.26.0 in /home/codespace/.local/lib/python3.12/site-packages (from pandas>=1.0.0->ucimlrepo) (2.2.6)\n",
      "Requirement already satisfied: python-dateutil>=2.8.2 in /home/codespace/.local/lib/python3.12/site-packages (from pandas>=1.0.0->ucimlrepo) (2.9.0.post0)\n",
      "Requirement already satisfied: pytz>=2020.1 in /home/codespace/.local/lib/python3.12/site-packages (from pandas>=1.0.0->ucimlrepo) (2025.2)\n",
      "Requirement already satisfied: tzdata>=2022.7 in /home/codespace/.local/lib/python3.12/site-packages (from pandas>=1.0.0->ucimlrepo) (2025.2)\n",
      "Requirement already satisfied: six>=1.5 in /home/codespace/.local/lib/python3.12/site-packages (from python-dateutil>=2.8.2->pandas>=1.0.0->ucimlrepo) (1.17.0)\n",
      "\n",
      "\u001b[1m[\u001b[0m\u001b[34;49mnotice\u001b[0m\u001b[1;39;49m]\u001b[0m\u001b[39;49m A new release of pip is available: \u001b[0m\u001b[31;49m25.1.1\u001b[0m\u001b[39;49m -> \u001b[0m\u001b[32;49m25.2\u001b[0m\n",
      "\u001b[1m[\u001b[0m\u001b[34;49mnotice\u001b[0m\u001b[1;39;49m]\u001b[0m\u001b[39;49m To update, run: \u001b[0m\u001b[32;49mpython -m pip install --upgrade pip\u001b[0m\n",
      "Note: you may need to restart the kernel to use updated packages.\n"
     ]
    }
   ],
   "source": [
    "pip install ucimlrepo"
   ]
  },
  {
   "cell_type": "code",
   "execution_count": 2,
   "id": "71de2192",
   "metadata": {},
   "outputs": [
    {
     "name": "stdout",
     "output_type": "stream",
     "text": [
      "{'uci_id': 145, 'name': 'Statlog (Heart)', 'repository_url': 'https://archive.ics.uci.edu/dataset/145/statlog+heart', 'data_url': 'https://archive.ics.uci.edu/static/public/145/data.csv', 'abstract': 'This dataset is a heart disease database similar to a database already present in the repository (Heart Disease databases) but in a slightly different form', 'area': 'Health and Medicine', 'tasks': ['Classification'], 'characteristics': ['Multivariate'], 'num_instances': 270, 'num_features': 13, 'feature_types': ['Categorical', 'Real'], 'demographics': ['Age', 'Sex'], 'target_col': ['heart-disease'], 'index_col': None, 'has_missing_values': 'no', 'missing_values_symbol': None, 'year_of_dataset_creation': None, 'last_updated': 'Fri Feb 09 2024', 'dataset_doi': '10.24432/C57303', 'creators': [], 'intro_paper': None, 'additional_info': {'summary': 'Cost Matrix\\r\\n\\r\\n_______\\t abse  pres\\r\\nabsence\\t 0\\t1\\r\\npresence  5\\t0\\r\\n\\r\\nwhere the rows represent the true values and the columns the predicted.\\r\\n', 'purpose': None, 'funded_by': None, 'instances_represent': None, 'recommended_data_splits': None, 'sensitive_data': None, 'preprocessing_description': None, 'variable_info': '\\r\\nAttribute Information:\\r\\n------------------------\\r\\n      -- 1. age       \\r\\n      -- 2. sex       \\r\\n      -- 3. chest pain type  (4 values)       \\r\\n      -- 4. resting blood pressure  \\r\\n      -- 5. serum cholestoral in mg/dl      \\r\\n      -- 6. fasting blood sugar > 120 mg/dl       \\r\\n      -- 7. resting electrocardiographic results  (values 0,1,2) \\r\\n      -- 8. maximum heart rate achieved  \\r\\n      -- 9. exercise induced angina    \\r\\n      -- 10. oldpeak = ST depression induced by exercise relative to rest   \\r\\n      -- 11. the slope of the peak exercise ST segment     \\r\\n      -- 12. number of major vessels (0-3) colored by flourosopy        \\r\\n      -- 13.  thal: 3 = normal; 6 = fixed defect; 7 = reversable defect     \\r\\n\\r\\nAttributes types\\r\\n-----------------\\r\\n\\r\\nReal: 1,4,5,8,10,12\\r\\nOrdered:11,\\r\\nBinary: 2,6,9\\r\\nNominal:7,3,13\\r\\n\\r\\nVariable to be predicted\\r\\n------------------------\\r\\nAbsence (1) or presence (2) of heart disease\\r\\n', 'citation': None}}\n",
      "                    name     role         type demographic  \\\n",
      "0                    age  Feature   Continuous         Age   \n",
      "1                    sex  Feature       Binary         Sex   \n",
      "2             chest-pain  Feature  Categorical        None   \n",
      "3                rest-bp  Feature   Continuous        None   \n",
      "4             serum-chol  Feature   Continuous        None   \n",
      "5    fasting-blood-sugar  Feature       Binary        None   \n",
      "6   electrocardiographic  Feature  Categorical        None   \n",
      "7         max-heart-rate  Feature   Continuous        None   \n",
      "8                 angina  Feature       Binary        None   \n",
      "9                oldpeak  Feature   Continuous        None   \n",
      "10                 slope  Feature      Integer        None   \n",
      "11         major-vessels  Feature   Continuous        None   \n",
      "12                  thal  Feature  Categorical        None   \n",
      "13         heart-disease   Target      Integer        None   \n",
      "\n",
      "                                          description  units missing_values  \n",
      "0                                                None   None             no  \n",
      "1                                                None   None             no  \n",
      "2                                     chest pain type   None             no  \n",
      "3                              resting blood pressure   None             no  \n",
      "4                                   serum cholesterol  mg/dl             no  \n",
      "5                     fasting blood sugar > 120 mg/dl   None             no  \n",
      "6                resting electrocardiographic results   None             no  \n",
      "7                         maximum heart rate achieved   None             no  \n",
      "8                             exercise induced anigna   None             no  \n",
      "9   oldpeak = ST depression induced by exercise re...   None             no  \n",
      "10           the slope of the peak exercise ST sgment   None             no  \n",
      "11  number of major vessels (0-3) colored by fluor...   None             no  \n",
      "12  thal: 3 = normal; 6 = fixed defect; 7 = revers...   None             no  \n",
      "13                                               None   None             no  \n"
     ]
    }
   ],
   "source": [
    "from ucimlrepo import fetch_ucirepo \n",
    "  \n",
    "# fetch dataset \n",
    "statlog_heart = fetch_ucirepo(id=145) \n",
    "  \n",
    "# data (as pandas dataframes) \n",
    "X = statlog_heart.data.features \n",
    "y = statlog_heart.data.targets \n",
    "  \n",
    "# metadata \n",
    "print(statlog_heart.metadata) \n",
    "  \n",
    "# variable information \n",
    "print(statlog_heart.variables) "
   ]
  },
  {
   "cell_type": "code",
   "execution_count": 4,
   "id": "061cbad5",
   "metadata": {},
   "outputs": [
    {
     "name": "stdout",
     "output_type": "stream",
     "text": [
      "Evaluating with distance: Euclidean\n",
      "Accuracy (Euclidean): 0.8395\n",
      "Evaluating with distance: Manhattan\n",
      "Accuracy (Manhattan): 0.8395\n",
      "Evaluating with distance: Minkowski (p=3)\n",
      "Accuracy (Minkowski (p=3)): 0.8148\n",
      "\n",
      "Summary of KNN Accuracy by Distance Metric:\n",
      "Euclidean: 0.8395\n",
      "Manhattan: 0.8395\n",
      "Minkowski (p=3): 0.8148\n"
     ]
    }
   ],
   "source": [
    "from ucimlrepo import fetch_ucirepo\n",
    "import pandas as pd\n",
    "from sklearn.model_selection import train_test_split\n",
    "from sklearn.preprocessing import StandardScaler\n",
    "from sklearn.neighbors import KNeighborsClassifier\n",
    "from sklearn.metrics import accuracy_score\n",
    "import numpy as np\n",
    "\n",
    "# Step 1: Load dataset\n",
    "statlog_heart = fetch_ucirepo(id=145)\n",
    "X = statlog_heart.data.features\n",
    "y = statlog_heart.data.targets.values.ravel()  # Flatten to 1D\n",
    "\n",
    "# Step 2: Train/test split\n",
    "X_train, X_test, y_train, y_test = train_test_split(\n",
    "    X, y, test_size=0.3, random_state=42, stratify=y)\n",
    "\n",
    "# Step 3: Standardize features\n",
    "scaler = StandardScaler()\n",
    "X_train_scaled = scaler.fit_transform(X_train)\n",
    "X_test_scaled = scaler.transform(X_test)\n",
    "\n",
    "# Step 4: Distance metrics (Chebyshev removed)\n",
    "distance_metrics = {\n",
    "    \"Euclidean\": 'euclidean',\n",
    "    \"Manhattan\": 'manhattan',\n",
    "    \"Minkowski (p=3)\": lambda x, y: np.linalg.norm(x - y, ord=3)\n",
    "}\n",
    "\n",
    "results = {}\n",
    "\n",
    "# Step 5: Fit and evaluate KNN\n",
    "for name, metric in distance_metrics.items():\n",
    "    print(f\"Evaluating with distance: {name}\")\n",
    "    \n",
    "    knn = KNeighborsClassifier(n_neighbors=5, metric=metric)\n",
    "    knn.fit(X_train_scaled, y_train)\n",
    "    y_pred = knn.predict(X_test_scaled)\n",
    "    acc = accuracy_score(y_test, y_pred)\n",
    "    \n",
    "    print(f\"Accuracy ({name}): {acc:.4f}\")\n",
    "    results[name] = acc\n",
    "\n",
    "# Step 6: Summary\n",
    "print(\"\\nSummary of KNN Accuracy by Distance Metric:\")\n",
    "for dist, acc in results.items():\n",
    "    print(f\"{dist}: {acc:.4f}\")\n"
   ]
  }
 ],
 "metadata": {
  "kernelspec": {
   "display_name": "Python 3",
   "language": "python",
   "name": "python3"
  },
  "language_info": {
   "codemirror_mode": {
    "name": "ipython",
    "version": 3
   },
   "file_extension": ".py",
   "mimetype": "text/x-python",
   "name": "python",
   "nbconvert_exporter": "python",
   "pygments_lexer": "ipython3",
   "version": "3.12.1"
  }
 },
 "nbformat": 4,
 "nbformat_minor": 5
}
